{
 "cells": [
  {
   "cell_type": "code",
   "execution_count": 17,
   "metadata": {},
   "outputs": [],
   "source": [
    "import pandas as pd\n",
    "import numpy as np \n",
    "import seaborn as sns\n",
    "\n",
    "import matplotlib.pyplot as plt\n",
    "\n",
    "#from sklearn.manifold import TSNE\n",
    "from sklearn.decomposition import PCA\n",
    "from sklearn.cluster import KMeans"
   ]
  },
  {
   "cell_type": "code",
   "execution_count": null,
   "metadata": {},
   "outputs": [],
   "source": [
    "pd.set_option('display.max_columns', 50)"
   ]
  },
  {
   "cell_type": "markdown",
   "metadata": {},
   "source": [
    "## Load data"
   ]
  },
  {
   "cell_type": "code",
   "execution_count": null,
   "metadata": {},
   "outputs": [],
   "source": [
    "df_l = pd.read_csv(\"data/celeba_buffalo_l.csv\")"
   ]
  },
  {
   "cell_type": "code",
   "execution_count": null,
   "metadata": {},
   "outputs": [],
   "source": [
    "df_l_embeddings = df_l.select_dtypes(\"float\")\n",
    "df_l_features = df_l.select_dtypes(\"int\").drop(columns=[\"id\"])\n",
    "df_l_images = df_l.loc[:, [\"image_name\", \"id\"]]"
   ]
  },
  {
   "cell_type": "code",
   "execution_count": null,
   "metadata": {},
   "outputs": [],
   "source": [
    "df_l_features"
   ]
  },
  {
   "cell_type": "markdown",
   "metadata": {},
   "source": [
    "## Precomputation"
   ]
  },
  {
   "cell_type": "code",
   "execution_count": null,
   "metadata": {},
   "outputs": [],
   "source": [
    "def correlation_matrix(df: pd.DataFrame) -> None:\n",
    "\tfig = plt.subplots(figsize=(12, 10))\n",
    "\tcorr = df.corr().abs()\n",
    "\n",
    "\tmask = np.triu(np.ones_like(corr, dtype=bool))\n",
    "\tsns.heatmap(corr, mask=mask, cmap=\"magma\", square=True, vmin=0, vmax=1, center=0, annot=False)\n",
    "\n",
    "correlation_matrix(df_l_features)"
   ]
  },
  {
   "cell_type": "code",
   "execution_count": null,
   "metadata": {},
   "outputs": [],
   "source": [
    "corr = df_l_features.corr().abs()\n",
    "corr"
   ]
  },
  {
   "cell_type": "code",
   "execution_count": null,
   "metadata": {},
   "outputs": [],
   "source": [
    "upper = np.triu(np.ones(corr.shape, dtype=bool), k=1)\n",
    "upper = corr.where(upper)\n",
    "\n",
    "to_drop = [column for column in upper.columns if any(upper[column] > 0.70)]\n",
    "print(to_drop)\n",
    "\n",
    "df_l_features.drop(columns=to_drop, axis=1, inplace=True)"
   ]
  },
  {
   "cell_type": "code",
   "execution_count": null,
   "metadata": {},
   "outputs": [],
   "source": [
    "to_drop"
   ]
  },
  {
   "cell_type": "code",
   "execution_count": null,
   "metadata": {},
   "outputs": [],
   "source": [
    "df_l_embeddings"
   ]
  },
  {
   "cell_type": "markdown",
   "metadata": {},
   "source": [
    "## DR"
   ]
  },
  {
   "cell_type": "code",
   "execution_count": null,
   "metadata": {},
   "outputs": [],
   "source": [
    "pca = PCA(n_components=50)\n",
    "df_l_embeddings_pca_50d = pca.fit_transform(df_l_embeddings)"
   ]
  },
  {
   "cell_type": "code",
   "execution_count": null,
   "metadata": {},
   "outputs": [],
   "source": [
    "pca = PCA(n_components=2)\n",
    "df_l_embeddings_pca_2d = pca.fit_transform(df_l_embeddings_pca_50d)\n",
    "plt.scatter(x=df_l_embeddings_pca_2d[:,0], y=df_l_embeddings_pca_2d[:,1])"
   ]
  },
  {
   "cell_type": "code",
   "execution_count": null,
   "metadata": {},
   "outputs": [],
   "source": [
    "kmeans = KMeans(n_clusters=5)\n",
    "kmeans.fit_transform(df_l_embeddings_pca_2d)"
   ]
  },
  {
   "cell_type": "code",
   "execution_count": null,
   "metadata": {},
   "outputs": [],
   "source": [
    "tsne = TSNE(n_components=2)\n",
    "df_l_embeddings_2d = tsne.fit_transform(df_l_embeddings)\n",
    "\n",
    "plt.scatter(x=df_l_embeddings_2d[0], y=df_l_embeddings_2d[1])"
   ]
  },
  {
   "cell_type": "code",
   "execution_count": 27,
   "metadata": {},
   "outputs": [
    {
     "data": {
      "text/plain": [
       "array([[-1,  1, -1, ..., -1, -1,  1],\n",
       "       [-1, -1, -1, ...,  1, -1,  1],\n",
       "       [-1,  1, -1, ..., -1, -1,  1],\n",
       "       ...,\n",
       "       [-1, -1, -1, ...,  1, -1,  1],\n",
       "       [-1,  1, -1, ...,  1, -1,  1],\n",
       "       [-1,  1, -1, ..., -1, -1,  1]])"
      ]
     },
     "execution_count": 27,
     "metadata": {},
     "output_type": "execute_result"
    }
   ],
   "source": [
    "df_l_embeddings_2d"
   ]
  },
  {
   "cell_type": "code",
   "execution_count": 29,
   "metadata": {},
   "outputs": [
    {
     "name": "stdout",
     "output_type": "stream",
     "text": [
      "--------------------------------------------------------------------------------\n",
      "TSNE(early_exaggeration=12, n_jobs=2, random_state=42, verbose=True)\n",
      "--------------------------------------------------------------------------------\n",
      "===> Finding 90 nearest neighbors using Annoy approximate search using euclidean distance...\n",
      "   --> Time elapsed: 13.35 seconds\n",
      "===> Calculating affinity matrix...\n",
      "   --> Time elapsed: 1.11 seconds\n",
      "===> Calculating PCA-based initialization...\n",
      "   --> Time elapsed: 0.11 seconds\n",
      "===> Running optimization with exaggeration=12.00, lr=2501.00 for 250 iterations...\n",
      "Iteration   50, KL divergence 5.7818, 50 iterations in 3.5504 sec\n",
      "Iteration  100, KL divergence 5.8694, 50 iterations in 4.2886 sec\n",
      "Iteration  150, KL divergence 5.8689, 50 iterations in 4.8743 sec\n",
      "Iteration  200, KL divergence 5.8689, 50 iterations in 4.8974 sec\n",
      "Iteration  250, KL divergence 5.8689, 50 iterations in 7.0952 sec\n",
      "   --> Time elapsed: 24.71 seconds\n",
      "===> Running optimization with exaggeration=1.00, lr=30012.00 for 500 iterations...\n",
      "Iteration   50, KL divergence 3.2348, 50 iterations in 8.2026 sec\n",
      "Iteration  100, KL divergence 2.9401, 50 iterations in 7.4350 sec\n",
      "Iteration  150, KL divergence 2.7954, 50 iterations in 8.5615 sec\n",
      "Iteration  200, KL divergence 2.7051, 50 iterations in 10.7667 sec\n",
      "Iteration  250, KL divergence 2.6409, 50 iterations in 13.1116 sec\n",
      "Iteration  300, KL divergence 2.5933, 50 iterations in 16.0206 sec\n",
      "Iteration  350, KL divergence 2.5569, 50 iterations in 18.7403 sec\n",
      "Iteration  400, KL divergence 2.5276, 50 iterations in 34.4659 sec\n",
      "Iteration  450, KL divergence 2.5058, 50 iterations in 36.5755 sec\n",
      "Iteration  500, KL divergence 2.4884, 50 iterations in 39.1386 sec\n",
      "   --> Time elapsed: 193.02 seconds\n"
     ]
    }
   ],
   "source": [
    "from openTSNE import TSNE\n",
    "\n",
    "tsne = TSNE(\n",
    "\tperplexity=30,\n",
    "\tn_jobs=2,\n",
    "\trandom_state=42,\n",
    "\tverbose=True\n",
    ")\n",
    "res = tsne.fit(np.array(df_l_features))"
   ]
  },
  {
   "cell_type": "code",
   "execution_count": 31,
   "metadata": {},
   "outputs": [
    {
     "data": {
      "text/plain": [
       "<matplotlib.collections.PathCollection at 0x135c98990>"
      ]
     },
     "execution_count": 31,
     "metadata": {},
     "output_type": "execute_result"
    },
    {
     "data": {
      "image/png": "[encoded data removed]",
      "text/plain": [
       "<Figure size 640x480 with 1 Axes>"
      ]
     },
     "metadata": {},
     "output_type": "display_data"
    }
   ],
   "source": [
    "plt.scatter(x = res[:,0], y = res[:,1])"
   ]
  },
  {
   "cell_type": "markdown",
   "metadata": {},
   "source": [
    "## Clustering"
   ]
  },
  {
   "cell_type": "code",
   "execution_count": null,
   "metadata": {},
   "outputs": [],
   "source": []
  },
  {
   "cell_type": "code",
   "execution_count": null,
   "metadata": {},
   "outputs": [],
   "source": [
    "df_s = pd.read_csv(\"data/celeba_buffalo_s.csv\")\n",
    "df_s.head(5)"
   ]
  },
  {
   "cell_type": "code",
   "execution_count": null,
   "metadata": {},
   "outputs": [],
   "source": [
    "%%time\n",
    "selected_features = [\"5_o_Clock_Shadow\", \"Arched_Eyebrows\"]\n",
    "features_mask = df_l_features[selected_features].isin([1]).all(axis=1)\n",
    "\n",
    "df_l_images[features_mask].loc[:, \"image_name\"][0:10]"
   ]
  },
  {
   "cell_type": "code",
   "execution_count": null,
   "metadata": {},
   "outputs": [],
   "source": [
    "%%time\n",
    "df_l_features_dict = df_l_features.to_dict(\"records\")\n",
    "df_l_features_dict"
   ]
  },
  {
   "cell_type": "code",
   "execution_count": null,
   "metadata": {},
   "outputs": [],
   "source": [
    "df_l_features_dict"
   ]
  },
  {
   "cell_type": "code",
   "execution_count": null,
   "metadata": {},
   "outputs": [],
   "source": [
    "df_s_embeddings = df_s.select_dtypes(\"float\")\n",
    "df_s_features = df_s.select_dtypes(\"int\").drop(columns=[\"id\"])\n",
    "df_s_images = df_s.loc[:, [\"image_name\", \"id\"]]\n",
    "\n",
    "# df_s_embeddings.to_parquet(\"data/celeba_buffalo_s__embeddings.gzip\")\n",
    "# df_s_embeddings.to_csv(\"data/celeba_buffalo_s__embeddings.csv\")\n",
    "# df_s_features.to_parquet(\"data/celeba_buffalo_s__features.gzip\")\n",
    "# df_s_images.to_parquet(\"data/celeba_buffalo_s__images.gzip\")"
   ]
  },
  {
   "cell_type": "code",
   "execution_count": null,
   "metadata": {},
   "outputs": [],
   "source": [
    "features.columns.to_list()"
   ]
  },
  {
   "cell_type": "code",
   "execution_count": null,
   "metadata": {},
   "outputs": [],
   "source": [
    "FEATURE = \"Eyeglasses\"\n",
    "\n",
    "def histogram_of_feature(df, feature: str):\n",
    "\tax = df[feature].replace({-1: \"no\", 1: \"yes\"}).hist(bins=3, rwidth=0.8, alpha=0.6, color=\"c\")\n",
    "\t\n",
    "\tax.set_xlabel(\"Features\")\n",
    "\tax.set_ylabel(\"Frequency\")\n",
    "\tax.set_title(f\"Histogram of {FEATURE}\")\n",
    "\n",
    "histogram_of_feature(features, FEATURE)"
   ]
  },
  {
   "cell_type": "code",
   "execution_count": null,
   "metadata": {},
   "outputs": [],
   "source": [
    "def feature_presence_counter(df):\n",
    "\t#df[feature].replace({-1: \"no\", 1: \"yes\"}).unique()\n",
    "\tcounts = pd.DataFrame({col: df[col].value_counts() for col in df})\n",
    "\tcounts = counts.iloc[1]\n",
    "\tcounts = counts.sort_values(ascending=False)\n",
    "\tcounts = pd.DataFrame(counts).reset_index()\n",
    "\tcounts.columns = [\"Feature\", \"Count\"]\n",
    "\treturn counts\n",
    "\n",
    "feature_presence_counter(df_l_features)"
   ]
  },
  {
   "cell_type": "code",
   "execution_count": null,
   "metadata": {},
   "outputs": [],
   "source": [
    "def feature_presence_couter_plot(df):\n",
    "\tcounts = pd.DataFrame({col: df[col].value_counts() for col in df})\n",
    "\tcounts = counts.iloc[1]\n",
    "\tcounts = counts.sort_values(ascending=False)\n",
    "\n",
    "\tfig, ax = plt.subplots(figsize=(8, 6))\n",
    "\tcounts.plot(kind=\"bar\", ax=ax)\n",
    "\n",
    "\tax.set_title(\"Most present features\")\n",
    "\tax.set_xlabel(\"Feature\")\n",
    "\tax.set_ylabel(\"Count\")\n",
    "\n",
    "feature_presence_couter_plot(features)"
   ]
  },
  {
   "cell_type": "code",
   "execution_count": null,
   "metadata": {},
   "outputs": [],
   "source": [
    "feature_presence_couter_plot(subset2)"
   ]
  },
  {
   "cell_type": "code",
   "execution_count": null,
   "metadata": {},
   "outputs": [],
   "source": [
    "def correlation_between_feature(df):\n",
    "\tfig = plt.subplots(figsize=(12, 10))\n",
    "\tcorr = df.corr().abs()\n",
    "\n",
    "\tmask = np.triu(np.ones_like(corr, dtype=bool))\n",
    "\tsns.heatmap(corr, mask=mask, cmap=\"magma\", square=True, vmin=0, vmax=1, center=0, annot=False)"
   ]
  },
  {
   "cell_type": "code",
   "execution_count": null,
   "metadata": {},
   "outputs": [],
   "source": [
    "correlation_between_feature(features)"
   ]
  },
  {
   "cell_type": "code",
   "execution_count": null,
   "metadata": {},
   "outputs": [],
   "source": [
    "plt.figure(figsize=(8, 6))\n",
    "sns.boxplot(x=\"No_Beard\", y=\"embedding_0\", data=df1, palette=\"Set3\")"
   ]
  },
  {
   "cell_type": "code",
   "execution_count": null,
   "metadata": {},
   "outputs": [],
   "source": [
    "plt.figure(figsize=(8, 6))\n",
    "sns.boxplot(x=\"No_Beard\", y=\"embedding_0\", data=df2, palette=\"Set3\")"
   ]
  }
 ],
 "metadata": {
  "kernelspec": {
   "display_name": "base",
   "language": "python",
   "name": "python3"
  },
  "language_info": {
   "codemirror_mode": {
    "name": "ipython",
    "version": 3
   },
   "file_extension": ".py",
   "mimetype": "text/x-python",
   "name": "python",
   "nbconvert_exporter": "python",
   "pygments_lexer": "ipython3",
   "version": "3.11.6"
  }
 },
 "nbformat": 4,
 "nbformat_minor": 2
}
